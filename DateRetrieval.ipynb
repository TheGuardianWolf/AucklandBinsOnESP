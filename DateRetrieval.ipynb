{
 "cells": [
  {
   "cell_type": "code",
   "execution_count": 1,
   "metadata": {},
   "outputs": [],
   "source": [
    "import requests\n",
    "\n",
    "# Get the page\n",
    "response = requests.get(\"https://www.aucklandcouncil.govt.nz/rubbish-recycling/rubbish-recycling-collections/Pages/collection-day-detail.aspx?an=12340955518\")\n",
    "rubbish_page = response.text\n"
   ]
  },
  {
   "cell_type": "code",
   "execution_count": 55,
   "metadata": {},
   "outputs": [],
   "source": [
    "import re\n",
    "\n",
    "rubbish_text = re.sub(r\"\\s+$\", \"\", # Kill trailing whitespace\n",
    "                      re.sub(r\"^\\s+\", \"\", # Kill leading whitespace\n",
    "                             re.sub(r\"\\n\\s*\\n\", \"\\n\", # Merge multi-line breaks\n",
    "                                    re.sub(r\"<[^>]*>\", \" \", rubbish_page)), flags=re.M), flags=re.M) # Remove html tags\n",
    "\n",
    "# Grab the lines\n",
    "match = re.search(r\"Your next collection dates:\\n^(.*?)$\\n^(.*?)$\", rubbish_text, flags=re.M)"
   ]
  },
  {
   "cell_type": "code",
   "execution_count": 56,
   "metadata": {},
   "outputs": [],
   "source": [
    "texts = [match.group(1), match.group(2)]\n",
    "rubbish_dates = []\n",
    "\n",
    "for text in texts:\n",
    "    text_match = re.search(r\"^([\\w\\s]+?)\\s{2,}(.*)$\", text, re.M)\n",
    "    raw_date = text_match.group(1)\n",
    "    raw_rubbish_flags = text_match.group(2).lower()\n",
    "\n",
    "    date_match = re.search(r\"^(\\w+)\\s(\\d+)\\s(\\w+)$\", raw_date, re.M)\n",
    "    raw_day = date_match.group(2)\n",
    "    raw_month = date_match.group(3) \n",
    "\n",
    "    is_recycle = \"recycle\" in raw_rubbish_flags\n",
    "    is_food_scraps = \"food scraps\" in raw_rubbish_flags\n",
    "    is_waste = \"rubbish\" in raw_rubbish_flags\n",
    "    rubbish_dates.append((raw_date, raw_rubbish_flags, is_recycle, is_food_scraps, is_waste))"
   ]
  },
  {
   "cell_type": "code",
   "execution_count": 57,
   "metadata": {},
   "outputs": [
    {
     "data": {
      "text/plain": [
       "[('Tuesday 4 July', 'rubbish     food scraps', False, True, True),\n",
       " ('Tuesday 11 July', 'rubbish     food scraps     recycle', True, True, True)]"
      ]
     },
     "execution_count": 57,
     "metadata": {},
     "output_type": "execute_result"
    }
   ],
   "source": [
    "rubbish_dates"
   ]
  },
  {
   "cell_type": "code",
   "execution_count": 2,
   "metadata": {},
   "outputs": [],
   "source": [
    "# Find the URL for rubbish collection\n",
    "BASE_URL = \"https://www.aucklandcouncil.govt.nz/rubbish-recycling/rubbish-recycling-collections/Pages/collection-day-detail.aspx?an=\"\n",
    "BASE_API_URL = \"https://www.aucklandcouncil.govt.nz/_vti_bin/ACWeb/ACservices.svc/GetMatchingPropertyAddresses\"\n",
    "addr_response = requests.post(BASE_API_URL, json={\n",
    "    \"RateKeyRequired\": False,\n",
    "    \"ResultCount\": \"1\",\n",
    "    \"SearchText\": \"10 queen street\"\n",
    "})"
   ]
  },
  {
   "cell_type": "code",
   "execution_count": 8,
   "metadata": {},
   "outputs": [
    {
     "data": {
      "text/plain": [
       "[{'ACRateAccountKey': '12343324624',\n",
       "  'Address': '10 Queen Street, Papakura',\n",
       "  'Suggestion': '10 Queen Street, Papakura'}]"
      ]
     },
     "execution_count": 8,
     "metadata": {},
     "output_type": "execute_result"
    }
   ],
   "source": [
    "addr_response.json()"
   ]
  },
  {
   "cell_type": "code",
   "execution_count": 3,
   "metadata": {},
   "outputs": [
    {
     "data": {
      "text/plain": [
       "200"
      ]
     },
     "execution_count": 3,
     "metadata": {},
     "output_type": "execute_result"
    }
   ],
   "source": [
    "addr_response.status_code"
   ]
  },
  {
   "cell_type": "code",
   "execution_count": null,
   "metadata": {},
   "outputs": [],
   "source": []
  }
 ],
 "metadata": {
  "kernelspec": {
   "display_name": "Python 3",
   "language": "python",
   "name": "python3"
  },
  "language_info": {
   "codemirror_mode": {
    "name": "ipython",
    "version": 3
   },
   "file_extension": ".py",
   "mimetype": "text/x-python",
   "name": "python",
   "nbconvert_exporter": "python",
   "pygments_lexer": "ipython3",
   "version": "3.11.4"
  },
  "orig_nbformat": 4
 },
 "nbformat": 4,
 "nbformat_minor": 2
}
